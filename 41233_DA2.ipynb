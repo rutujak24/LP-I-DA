{
 "cells": [
  {
   "cell_type": "markdown",
   "metadata": {
    "id": "2f3aNmidT4lQ"
   },
   "source": [
    "## DATA ANALYTICS: ASSIGNMENT A2\n",
    "\n"
   ]
  },
  {
   "cell_type": "code",
   "execution_count": 1,
   "metadata": {
    "colab": {
     "base_uri": "https://localhost:8080/",
     "height": 35
    },
    "executionInfo": {
     "elapsed": 1317,
     "status": "ok",
     "timestamp": 1601386546318,
     "user": {
      "displayName": "Sachin Johnson Chirayath",
      "photoUrl": "",
      "userId": "18152493364802325657"
     },
     "user_tz": -330
    },
    "id": "jFS-xin0DCxd",
    "outputId": "0aaee87b-84bf-4b02-bcb0-d1709861684b"
   },
   "outputs": [
    {
     "data": {
      "text/plain": [
       "'/home/lonewolf/Downloads/DA-2'"
      ]
     },
     "execution_count": 1,
     "metadata": {},
     "output_type": "execute_result"
    }
   ],
   "source": [
    "import os\n",
    "os.getcwd()"
   ]
  },
  {
   "cell_type": "markdown",
   "metadata": {
    "id": "5YjDUURyT4lR"
   },
   "source": [
    "### Naive Bayes algorithm for classification on Pima Indians Diabetes dataset"
   ]
  },
  {
   "cell_type": "markdown",
   "metadata": {
    "id": "DFv8NFgcT4lS"
   },
   "source": [
    "- Naive Bayes is a statistical classification technique based on Bayes Theorem\n",
    "- It is one of the simplest supervised learning algorithms\n",
    "- Naive Bayes classifier assumes that the effect of a particular feature in a class is independent of other features"
   ]
  },
  {
   "cell_type": "code",
   "execution_count": 2,
   "metadata": {
    "ExecuteTime": {
     "end_time": "2020-08-17T06:37:29.973771Z",
     "start_time": "2020-08-17T06:37:29.018298Z"
    },
    "colab": {
     "base_uri": "https://localhost:8080/",
     "height": 52
    },
    "executionInfo": {
     "elapsed": 1207,
     "status": "ok",
     "timestamp": 1601386550403,
     "user": {
      "displayName": "Sachin Johnson Chirayath",
      "photoUrl": "",
      "userId": "18152493364802325657"
     },
     "user_tz": -330
    },
    "id": "XFWdeXnaT4lT",
    "outputId": "c9ac7329-377e-4e44-8160-bd97dde5e94b"
   },
   "outputs": [],
   "source": [
    "import pandas as pd\n",
    "import seaborn as sns\n",
    "import matplotlib.pyplot as plt\n",
    "from IPython.display import Image\n",
    "from sklearn.naive_bayes import GaussianNB\n",
    "from sklearn.preprocessing import StandardScaler\n",
    "from sklearn.model_selection import train_test_split\n",
    "from sklearn.metrics import confusion_matrix, ConfusionMatrixDisplay, classification_report\n",
    "sns.set_style('darkgrid')"
   ]
  },
  {
   "cell_type": "markdown",
   "metadata": {
    "id": "gimmqOYJT4lZ"
   },
   "source": [
    "### Load the data from CSV file "
   ]
  },
  {
   "cell_type": "code",
   "execution_count": 3,
   "metadata": {
    "ExecuteTime": {
     "end_time": "2020-08-17T06:37:29.984945Z",
     "start_time": "2020-08-17T06:37:29.976023Z"
    },
    "colab": {
     "base_uri": "https://localhost:8080/",
     "height": 382
    },
    "executionInfo": {
     "elapsed": 1108,
     "status": "error",
     "timestamp": 1601386561169,
     "user": {
      "displayName": "Sachin Johnson Chirayath",
      "photoUrl": "",
      "userId": "18152493364802325657"
     },
     "user_tz": -330
    },
    "id": "FcFUd9BvT4la",
    "outputId": "0274d437-c431-4e77-d9a3-09d3c88864af"
   },
   "outputs": [],
   "source": [
    "pid = pd.read_csv('pima-indians-diabetes.csv', names = ['preg', 'plasma', 'blood_pres', 'skin', 'insulin', 'bmi', 'pedigree', 'age', 'diab_class'])"
   ]
  },
  {
   "cell_type": "code",
   "execution_count": 4,
   "metadata": {
    "ExecuteTime": {
     "end_time": "2020-08-17T06:37:30.014292Z",
     "start_time": "2020-08-17T06:37:29.988252Z"
    },
    "colab": {
     "base_uri": "https://localhost:8080/",
     "height": 195
    },
    "executionInfo": {
     "elapsed": 1918,
     "status": "ok",
     "timestamp": 1599924575548,
     "user": {
      "displayName": "Dhruv Inamdar",
      "photoUrl": "https://lh3.googleusercontent.com/a-/AOh14GjhPm1ES6GCVndCmhX-Vo5gtdw4DDdAzjUO7j8bIA=s64",
      "userId": "17388413836305894064"
     },
     "user_tz": -330
    },
    "id": "okX51DTHT4le",
    "outputId": "dabc9616-f3cc-4e6e-da1d-41d99d3bcf05"
   },
   "outputs": [
    {
     "data": {
      "text/html": [
       "<div>\n",
       "<style scoped>\n",
       "    .dataframe tbody tr th:only-of-type {\n",
       "        vertical-align: middle;\n",
       "    }\n",
       "\n",
       "    .dataframe tbody tr th {\n",
       "        vertical-align: top;\n",
       "    }\n",
       "\n",
       "    .dataframe thead th {\n",
       "        text-align: right;\n",
       "    }\n",
       "</style>\n",
       "<table border=\"1\" class=\"dataframe\">\n",
       "  <thead>\n",
       "    <tr style=\"text-align: right;\">\n",
       "      <th></th>\n",
       "      <th>preg</th>\n",
       "      <th>plasma</th>\n",
       "      <th>blood_pres</th>\n",
       "      <th>skin</th>\n",
       "      <th>insulin</th>\n",
       "      <th>bmi</th>\n",
       "      <th>pedigree</th>\n",
       "      <th>age</th>\n",
       "      <th>diab_class</th>\n",
       "    </tr>\n",
       "  </thead>\n",
       "  <tbody>\n",
       "    <tr>\n",
       "      <th>0</th>\n",
       "      <td>6</td>\n",
       "      <td>148</td>\n",
       "      <td>72</td>\n",
       "      <td>35</td>\n",
       "      <td>0</td>\n",
       "      <td>33.6</td>\n",
       "      <td>0.627</td>\n",
       "      <td>50</td>\n",
       "      <td>1</td>\n",
       "    </tr>\n",
       "    <tr>\n",
       "      <th>1</th>\n",
       "      <td>1</td>\n",
       "      <td>85</td>\n",
       "      <td>66</td>\n",
       "      <td>29</td>\n",
       "      <td>0</td>\n",
       "      <td>26.6</td>\n",
       "      <td>0.351</td>\n",
       "      <td>31</td>\n",
       "      <td>0</td>\n",
       "    </tr>\n",
       "    <tr>\n",
       "      <th>2</th>\n",
       "      <td>8</td>\n",
       "      <td>183</td>\n",
       "      <td>64</td>\n",
       "      <td>0</td>\n",
       "      <td>0</td>\n",
       "      <td>23.3</td>\n",
       "      <td>0.672</td>\n",
       "      <td>32</td>\n",
       "      <td>1</td>\n",
       "    </tr>\n",
       "    <tr>\n",
       "      <th>3</th>\n",
       "      <td>1</td>\n",
       "      <td>89</td>\n",
       "      <td>66</td>\n",
       "      <td>23</td>\n",
       "      <td>94</td>\n",
       "      <td>28.1</td>\n",
       "      <td>0.167</td>\n",
       "      <td>21</td>\n",
       "      <td>0</td>\n",
       "    </tr>\n",
       "    <tr>\n",
       "      <th>4</th>\n",
       "      <td>0</td>\n",
       "      <td>137</td>\n",
       "      <td>40</td>\n",
       "      <td>35</td>\n",
       "      <td>168</td>\n",
       "      <td>43.1</td>\n",
       "      <td>2.288</td>\n",
       "      <td>33</td>\n",
       "      <td>1</td>\n",
       "    </tr>\n",
       "  </tbody>\n",
       "</table>\n",
       "</div>"
      ],
      "text/plain": [
       "   preg  plasma  blood_pres  skin  insulin   bmi  pedigree  age  diab_class\n",
       "0     6     148          72    35        0  33.6     0.627   50           1\n",
       "1     1      85          66    29        0  26.6     0.351   31           0\n",
       "2     8     183          64     0        0  23.3     0.672   32           1\n",
       "3     1      89          66    23       94  28.1     0.167   21           0\n",
       "4     0     137          40    35      168  43.1     2.288   33           1"
      ]
     },
     "execution_count": 4,
     "metadata": {},
     "output_type": "execute_result"
    }
   ],
   "source": [
    "pid.head()"
   ]
  },
  {
   "cell_type": "markdown",
   "metadata": {
    "id": "K8q80MEVT4lk"
   },
   "source": [
    "### Summarize the properties in the training dataset so that we can calculate probabilities and make predictions."
   ]
  },
  {
   "cell_type": "markdown",
   "metadata": {
    "id": "Pz2HsGWJT4ll"
   },
   "source": [
    "-  The Dataset `pima-indians-diabetes.csv` is generated by <h4>National Institute of Diabetes and Digestive and Kidney Diseases</h4>\n",
    "- The Type 2 diabetes is a lifelong disease that keeps your body from using insulin the way it should. \n",
    "- People with type 2 diabetes are said to have insulin resistance. \n",
    "- People who are middle-aged or older are most likely to get this kind of diabetes, so it used to be called adult-onset diabetes"
   ]
  },
  {
   "cell_type": "markdown",
   "metadata": {
    "id": "ankLn9kNT4lm"
   },
   "source": [
    "This dataset describes the medical records for Pima Indians\n",
    "and whether or not each patient will have an onset of diabetes within \f",
    "ve years.\n",
    "\n",
    "Fields description follow:\n",
    "\n",
    "- preg = Number of times pregnant\n",
    "\n",
    "- plas = Plasma glucose concentration a 2 hours in an oral glucose tolerance test\n",
    "\n",
    "- blood_pres = Diastolic blood pressure (mm Hg)\n",
    "\n",
    "- skin = Triceps skin fold thickness (mm)\n",
    "\n",
    "- insulin = 2-Hour serum insulin (mu U/ml)\n",
    "\n",
    "- bmi = Body mass index (weight in kg/(height in m)^2)\n",
    "\n",
    "- pedigree = Diabetes pedigree function\n",
    "\n",
    "- age = Age (years)\n",
    "\n",
    "- diab_class = Class variable (1:tested positive for diabetes, 0: tested negative for diabetes)"
   ]
  },
  {
   "cell_type": "code",
   "execution_count": 5,
   "metadata": {
    "ExecuteTime": {
     "end_time": "2020-08-17T06:37:30.054530Z",
     "start_time": "2020-08-17T06:37:30.015653Z"
    },
    "colab": {
     "base_uri": "https://localhost:8080/",
     "height": 284
    },
    "executionInfo": {
     "elapsed": 1911,
     "status": "ok",
     "timestamp": 1599924575550,
     "user": {
      "displayName": "Dhruv Inamdar",
      "photoUrl": "https://lh3.googleusercontent.com/a-/AOh14GjhPm1ES6GCVndCmhX-Vo5gtdw4DDdAzjUO7j8bIA=s64",
      "userId": "17388413836305894064"
     },
     "user_tz": -330
    },
    "id": "5P31wXNCT4ln",
    "outputId": "1e25951c-783d-45e5-89e5-00bb1320f0a8"
   },
   "outputs": [
    {
     "data": {
      "text/html": [
       "<div>\n",
       "<style scoped>\n",
       "    .dataframe tbody tr th:only-of-type {\n",
       "        vertical-align: middle;\n",
       "    }\n",
       "\n",
       "    .dataframe tbody tr th {\n",
       "        vertical-align: top;\n",
       "    }\n",
       "\n",
       "    .dataframe thead th {\n",
       "        text-align: right;\n",
       "    }\n",
       "</style>\n",
       "<table border=\"1\" class=\"dataframe\">\n",
       "  <thead>\n",
       "    <tr style=\"text-align: right;\">\n",
       "      <th></th>\n",
       "      <th>preg</th>\n",
       "      <th>plasma</th>\n",
       "      <th>blood_pres</th>\n",
       "      <th>skin</th>\n",
       "      <th>insulin</th>\n",
       "      <th>bmi</th>\n",
       "      <th>pedigree</th>\n",
       "      <th>age</th>\n",
       "      <th>diab_class</th>\n",
       "    </tr>\n",
       "  </thead>\n",
       "  <tbody>\n",
       "    <tr>\n",
       "      <th>count</th>\n",
       "      <td>768.000000</td>\n",
       "      <td>768.000000</td>\n",
       "      <td>768.000000</td>\n",
       "      <td>768.000000</td>\n",
       "      <td>768.000000</td>\n",
       "      <td>768.000000</td>\n",
       "      <td>768.000000</td>\n",
       "      <td>768.000000</td>\n",
       "      <td>768.000000</td>\n",
       "    </tr>\n",
       "    <tr>\n",
       "      <th>mean</th>\n",
       "      <td>3.845052</td>\n",
       "      <td>120.894531</td>\n",
       "      <td>69.105469</td>\n",
       "      <td>20.536458</td>\n",
       "      <td>79.799479</td>\n",
       "      <td>31.992578</td>\n",
       "      <td>0.471876</td>\n",
       "      <td>33.240885</td>\n",
       "      <td>0.348958</td>\n",
       "    </tr>\n",
       "    <tr>\n",
       "      <th>std</th>\n",
       "      <td>3.369578</td>\n",
       "      <td>31.972618</td>\n",
       "      <td>19.355807</td>\n",
       "      <td>15.952218</td>\n",
       "      <td>115.244002</td>\n",
       "      <td>7.884160</td>\n",
       "      <td>0.331329</td>\n",
       "      <td>11.760232</td>\n",
       "      <td>0.476951</td>\n",
       "    </tr>\n",
       "    <tr>\n",
       "      <th>min</th>\n",
       "      <td>0.000000</td>\n",
       "      <td>0.000000</td>\n",
       "      <td>0.000000</td>\n",
       "      <td>0.000000</td>\n",
       "      <td>0.000000</td>\n",
       "      <td>0.000000</td>\n",
       "      <td>0.078000</td>\n",
       "      <td>21.000000</td>\n",
       "      <td>0.000000</td>\n",
       "    </tr>\n",
       "    <tr>\n",
       "      <th>25%</th>\n",
       "      <td>1.000000</td>\n",
       "      <td>99.000000</td>\n",
       "      <td>62.000000</td>\n",
       "      <td>0.000000</td>\n",
       "      <td>0.000000</td>\n",
       "      <td>27.300000</td>\n",
       "      <td>0.243750</td>\n",
       "      <td>24.000000</td>\n",
       "      <td>0.000000</td>\n",
       "    </tr>\n",
       "    <tr>\n",
       "      <th>50%</th>\n",
       "      <td>3.000000</td>\n",
       "      <td>117.000000</td>\n",
       "      <td>72.000000</td>\n",
       "      <td>23.000000</td>\n",
       "      <td>30.500000</td>\n",
       "      <td>32.000000</td>\n",
       "      <td>0.372500</td>\n",
       "      <td>29.000000</td>\n",
       "      <td>0.000000</td>\n",
       "    </tr>\n",
       "    <tr>\n",
       "      <th>75%</th>\n",
       "      <td>6.000000</td>\n",
       "      <td>140.250000</td>\n",
       "      <td>80.000000</td>\n",
       "      <td>32.000000</td>\n",
       "      <td>127.250000</td>\n",
       "      <td>36.600000</td>\n",
       "      <td>0.626250</td>\n",
       "      <td>41.000000</td>\n",
       "      <td>1.000000</td>\n",
       "    </tr>\n",
       "    <tr>\n",
       "      <th>max</th>\n",
       "      <td>17.000000</td>\n",
       "      <td>199.000000</td>\n",
       "      <td>122.000000</td>\n",
       "      <td>99.000000</td>\n",
       "      <td>846.000000</td>\n",
       "      <td>67.100000</td>\n",
       "      <td>2.420000</td>\n",
       "      <td>81.000000</td>\n",
       "      <td>1.000000</td>\n",
       "    </tr>\n",
       "  </tbody>\n",
       "</table>\n",
       "</div>"
      ],
      "text/plain": [
       "             preg      plasma  blood_pres        skin     insulin         bmi  \\\n",
       "count  768.000000  768.000000  768.000000  768.000000  768.000000  768.000000   \n",
       "mean     3.845052  120.894531   69.105469   20.536458   79.799479   31.992578   \n",
       "std      3.369578   31.972618   19.355807   15.952218  115.244002    7.884160   \n",
       "min      0.000000    0.000000    0.000000    0.000000    0.000000    0.000000   \n",
       "25%      1.000000   99.000000   62.000000    0.000000    0.000000   27.300000   \n",
       "50%      3.000000  117.000000   72.000000   23.000000   30.500000   32.000000   \n",
       "75%      6.000000  140.250000   80.000000   32.000000  127.250000   36.600000   \n",
       "max     17.000000  199.000000  122.000000   99.000000  846.000000   67.100000   \n",
       "\n",
       "         pedigree         age  diab_class  \n",
       "count  768.000000  768.000000  768.000000  \n",
       "mean     0.471876   33.240885    0.348958  \n",
       "std      0.331329   11.760232    0.476951  \n",
       "min      0.078000   21.000000    0.000000  \n",
       "25%      0.243750   24.000000    0.000000  \n",
       "50%      0.372500   29.000000    0.000000  \n",
       "75%      0.626250   41.000000    1.000000  \n",
       "max      2.420000   81.000000    1.000000  "
      ]
     },
     "execution_count": 5,
     "metadata": {},
     "output_type": "execute_result"
    }
   ],
   "source": [
    "pid.describe()"
   ]
  },
  {
   "cell_type": "code",
   "execution_count": 6,
   "metadata": {
    "ExecuteTime": {
     "end_time": "2020-08-17T06:37:30.063994Z",
     "start_time": "2020-08-17T06:37:30.056056Z"
    },
    "colab": {
     "base_uri": "https://localhost:8080/",
     "height": 286
    },
    "executionInfo": {
     "elapsed": 1901,
     "status": "ok",
     "timestamp": 1599924575551,
     "user": {
      "displayName": "Dhruv Inamdar",
      "photoUrl": "https://lh3.googleusercontent.com/a-/AOh14GjhPm1ES6GCVndCmhX-Vo5gtdw4DDdAzjUO7j8bIA=s64",
      "userId": "17388413836305894064"
     },
     "user_tz": -330
    },
    "id": "cpMzDiqkT4lr",
    "outputId": "94c09e14-b488-4548-9743-beec462039d9"
   },
   "outputs": [
    {
     "name": "stdout",
     "output_type": "stream",
     "text": [
      "<class 'pandas.core.frame.DataFrame'>\n",
      "RangeIndex: 768 entries, 0 to 767\n",
      "Data columns (total 9 columns):\n",
      " #   Column      Non-Null Count  Dtype  \n",
      "---  ------      --------------  -----  \n",
      " 0   preg        768 non-null    int64  \n",
      " 1   plasma      768 non-null    int64  \n",
      " 2   blood_pres  768 non-null    int64  \n",
      " 3   skin        768 non-null    int64  \n",
      " 4   insulin     768 non-null    int64  \n",
      " 5   bmi         768 non-null    float64\n",
      " 6   pedigree    768 non-null    float64\n",
      " 7   age         768 non-null    int64  \n",
      " 8   diab_class  768 non-null    int64  \n",
      "dtypes: float64(2), int64(7)\n",
      "memory usage: 54.1 KB\n"
     ]
    }
   ],
   "source": [
    "pid.info()"
   ]
  },
  {
   "cell_type": "code",
   "execution_count": 7,
   "metadata": {
    "ExecuteTime": {
     "end_time": "2020-08-17T06:37:30.989888Z",
     "start_time": "2020-08-17T06:37:30.066480Z"
    },
    "colab": {
     "base_uri": "https://localhost:8080/",
     "height": 613
    },
    "executionInfo": {
     "elapsed": 2866,
     "status": "ok",
     "timestamp": 1599924576527,
     "user": {
      "displayName": "Dhruv Inamdar",
      "photoUrl": "https://lh3.googleusercontent.com/a-/AOh14GjhPm1ES6GCVndCmhX-Vo5gtdw4DDdAzjUO7j8bIA=s64",
      "userId": "17388413836305894064"
     },
     "user_tz": -330
    },
    "id": "fr41T6Q0T4lw",
    "outputId": "6ccc31cd-059f-4040-c900-787ed2425008"
   },
   "outputs": [
    {
     "data": {
      "text/plain": [
       "<matplotlib.axes._subplots.AxesSubplot at 0x7f2ac216bfd0>"
      ]
     },
     "execution_count": 7,
     "metadata": {},
     "output_type": "execute_result"
    },
    {
     "data": {
      "image/png": "[encoded data removed]",
      "text/plain": [
       "<Figure size 720x720 with 2 Axes>"
      ]
     },
     "metadata": {},
     "output_type": "display_data"
    }
   ],
   "source": [
    "plt.figure(figsize=(10,10))\n",
    "sns.heatmap(pid.corr(), annot = True) "
   ]
  },
  {
   "cell_type": "code",
   "execution_count": 8,
   "metadata": {
    "ExecuteTime": {
     "end_time": "2020-08-17T06:37:31.003246Z",
     "start_time": "2020-08-17T06:37:30.993129Z"
    },
    "id": "aIf5v4GET4l1"
   },
   "outputs": [],
   "source": [
    "X = pid.drop('diab_class', axis=1)\n",
    "y = pid.diab_class"
   ]
  },
  {
   "cell_type": "code",
   "execution_count": 9,
   "metadata": {
    "ExecuteTime": {
     "end_time": "2020-08-17T06:37:31.027046Z",
     "start_time": "2020-08-17T06:37:31.007196Z"
    },
    "id": "J_zyReoCT4l5"
   },
   "outputs": [],
   "source": [
    "std_scaler = StandardScaler() "
   ]
  },
  {
   "cell_type": "code",
   "execution_count": 10,
   "metadata": {
    "ExecuteTime": {
     "end_time": "2020-08-17T06:37:31.066477Z",
     "start_time": "2020-08-17T06:37:31.050096Z"
    },
    "id": "zK6dS4uST4mB"
   },
   "outputs": [],
   "source": [
    "X_train, X_test, y_train, y_test = train_test_split(X, y, test_size=0.25)\n",
    "X_train = std_scaler.fit_transform(X_train)\n",
    "X_test = std_scaler.transform(X_test)"
   ]
  },
  {
   "cell_type": "markdown",
   "metadata": {
    "ExecuteTime": {
     "end_time": "2020-08-17T06:05:43.085444Z",
     "start_time": "2020-08-17T06:05:43.081444Z"
    },
    "id": "5cIKpbztT4mF"
   },
   "source": [
    "- Naive Bayes classifiers are a collection of classification algorithms based on Bayes’ Theorem.\n",
    "- It is not a single algorithm but a family of algorithms where all of them share a common principle, i.e. every pair of features being classified is independent of each other."
   ]
  },
  {
   "cell_type": "markdown",
   "metadata": {
    "ExecuteTime": {
     "end_time": "2020-08-17T05:52:18.276648Z",
     "start_time": "2020-08-17T05:52:18.268718Z"
    },
    "id": "GUfyJyLET4mH"
   },
   "source": [
    "\n",
    "- P(h): the probability of hypothesis h being true (regardless of the data). This is known as the prior probability of h.\n",
    "- P(D): the probability of the data (regardless of the hypothesis). This is known as the prior probability.\n",
    "- P(h|D): the probability of hypothesis h given the data D. This is known as posterior probability.\n",
    "- P(D|h): the probability of data d given that the hypothesis h was true. This is known as posterior probability."
   ]
  },
  {
   "cell_type": "code",
   "execution_count": 11,
   "metadata": {
    "ExecuteTime": {
     "end_time": "2020-08-17T06:37:58.842254Z",
     "start_time": "2020-08-17T06:37:58.838228Z"
    },
    "id": "JPpCKoGPT4mH"
   },
   "outputs": [],
   "source": [
    "nb_model = GaussianNB()"
   ]
  },
  {
   "cell_type": "code",
   "execution_count": 12,
   "metadata": {
    "ExecuteTime": {
     "end_time": "2020-08-17T06:37:59.897617Z",
     "start_time": "2020-08-17T06:37:59.887839Z"
    },
    "colab": {
     "base_uri": "https://localhost:8080/",
     "height": 34
    },
    "executionInfo": {
     "elapsed": 979,
     "status": "ok",
     "timestamp": 1599924607330,
     "user": {
      "displayName": "Dhruv Inamdar",
      "photoUrl": "https://lh3.googleusercontent.com/a-/AOh14GjhPm1ES6GCVndCmhX-Vo5gtdw4DDdAzjUO7j8bIA=s64",
      "userId": "17388413836305894064"
     },
     "user_tz": -330
    },
    "id": "4vWZOkfBT4mM",
    "outputId": "f7ff8983-920d-4437-ccd2-11c1860445e8"
   },
   "outputs": [
    {
     "data": {
      "text/plain": [
       "GaussianNB()"
      ]
     },
     "execution_count": 12,
     "metadata": {},
     "output_type": "execute_result"
    }
   ],
   "source": [
    "nb_model.fit(X_train, y_train)"
   ]
  },
  {
   "cell_type": "markdown",
   "metadata": {
    "id": "xdLJtIhYT4mP"
   },
   "source": [
    "### Predict samples from a test dataset"
   ]
  },
  {
   "cell_type": "code",
   "execution_count": 13,
   "metadata": {
    "ExecuteTime": {
     "end_time": "2020-08-17T06:38:00.957239Z",
     "start_time": "2020-08-17T06:38:00.952824Z"
    },
    "id": "V_Nnb9ZFT4mQ"
   },
   "outputs": [],
   "source": [
    "y_pred = nb_model.predict(X_test)"
   ]
  },
  {
   "cell_type": "code",
   "execution_count": 14,
   "metadata": {
    "ExecuteTime": {
     "end_time": "2020-08-17T06:38:01.530170Z",
     "start_time": "2020-08-17T06:38:01.517263Z"
    },
    "colab": {
     "base_uri": "https://localhost:8080/",
     "height": 50
    },
    "executionInfo": {
     "elapsed": 1746,
     "status": "ok",
     "timestamp": 1599924613216,
     "user": {
      "displayName": "Dhruv Inamdar",
      "photoUrl": "https://lh3.googleusercontent.com/a-/AOh14GjhPm1ES6GCVndCmhX-Vo5gtdw4DDdAzjUO7j8bIA=s64",
      "userId": "17388413836305894064"
     },
     "user_tz": -330
    },
    "id": "4N-0LYmBT4mU",
    "outputId": "e0e9346a-acb8-415f-ff6c-ec75eae8e54c"
   },
   "outputs": [
    {
     "data": {
      "text/plain": [
       "array([[109,  21],\n",
       "       [ 29,  33]])"
      ]
     },
     "execution_count": 14,
     "metadata": {},
     "output_type": "execute_result"
    }
   ],
   "source": [
    "confusion_matrix(y_test, y_pred)"
   ]
  },
  {
   "cell_type": "code",
   "execution_count": 15,
   "metadata": {
    "ExecuteTime": {
     "end_time": "2020-08-17T06:38:02.700338Z",
     "start_time": "2020-08-17T06:38:02.673920Z"
    },
    "colab": {
     "base_uri": "https://localhost:8080/",
     "height": 168
    },
    "executionInfo": {
     "elapsed": 1305,
     "status": "ok",
     "timestamp": 1599924651781,
     "user": {
      "displayName": "Dhruv Inamdar",
      "photoUrl": "https://lh3.googleusercontent.com/a-/AOh14GjhPm1ES6GCVndCmhX-Vo5gtdw4DDdAzjUO7j8bIA=s64",
      "userId": "17388413836305894064"
     },
     "user_tz": -330
    },
    "id": "qaNC3EMbT4mX",
    "outputId": "dae35468-fb9a-4aea-a146-2bd059ef42f8"
   },
   "outputs": [
    {
     "name": "stdout",
     "output_type": "stream",
     "text": [
      "              precision    recall  f1-score   support\n",
      "\n",
      "           0       0.79      0.84      0.81       130\n",
      "           1       0.61      0.53      0.57        62\n",
      "\n",
      "    accuracy                           0.74       192\n",
      "   macro avg       0.70      0.69      0.69       192\n",
      "weighted avg       0.73      0.74      0.73       192\n",
      "\n"
     ]
    }
   ],
   "source": [
    "print(classification_report(y_test, y_pred))"
   ]
  },
  {
   "cell_type": "code",
   "execution_count": null,
   "metadata": {},
   "outputs": [],
   "source": []
  }
 ],
 "metadata": {
  "accelerator": "GPU",
  "colab": {
   "name": "41213_LP1_P2_DA-2.ipynb",
   "provenance": []
  },
  "kernelspec": {
   "display_name": "Python 3",
   "language": "python",
   "name": "python3"
  },
  "language_info": {
   "codemirror_mode": {
    "name": "ipython",
    "version": 3
   },
   "file_extension": ".py",
   "mimetype": "text/x-python",
   "name": "python",
   "nbconvert_exporter": "python",
   "pygments_lexer": "ipython3",
   "version": "3.8.3"
  }
 },
 "nbformat": 4,
 "nbformat_minor": 1
}
